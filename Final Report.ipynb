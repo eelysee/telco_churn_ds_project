{
 "cells": [
  {
   "cell_type": "markdown",
   "id": "c214119b",
   "metadata": {},
   "source": [
    "## Churn Down For What?"
   ]
  },
  {
   "cell_type": "markdown",
   "id": "1f98d961",
   "metadata": {},
   "source": [
    "### Goal:\n",
    "\n",
    "- Discover drivers of churn using the telco_churn database.\n",
    "- Use drivers to produce models that profile customers who churn.\n",
    "- Provide actionable recommondatoins to limit customer churn."
   ]
  },
  {
   "cell_type": "markdown",
   "id": "5b6bdf4f",
   "metadata": {},
   "source": [
    "### Imports"
   ]
  },
  {
   "cell_type": "code",
   "execution_count": null,
   "id": "878269dd",
   "metadata": {},
   "outputs": [],
   "source": [
    "import acquire as ak\n",
    "import prepare"
   ]
  },
  {
   "cell_type": "markdown",
   "id": "00e610a2",
   "metadata": {},
   "source": [
    "Imports the complete telco_churn database into one data frame and assigns it to the variable telco."
   ]
  },
  {
   "cell_type": "markdown",
   "id": "fff15ad5",
   "metadata": {},
   "source": [
    "### Acquire\n",
    "- Data acquired from the Codeup SQL server\n",
    "- Data contains 7043 rows and 53 columns before cleaning.\n",
    "- Each row represents a unique customer.\n",
    "- Each column represents a feature of the customer."
   ]
  },
  {
   "cell_type": "code",
   "execution_count": null,
   "id": "62cb2617",
   "metadata": {},
   "outputs": [],
   "source": [
    "# imports all telco_churn database except for customers with 0 tenure.\n",
    "## drops '11' customers\n",
    "telco = ak.get_telco_churn()"
   ]
  },
  {
   "cell_type": "markdown",
   "id": "1320a6cd",
   "metadata": {},
   "source": [
    "### Prepare "
   ]
  },
  {
   "cell_type": "markdown",
   "id": "53e65030",
   "metadata": {},
   "source": [
    "### Data snanpshot"
   ]
  }
 ],
 "metadata": {
  "kernelspec": {
   "display_name": "Python 3 (ipykernel)",
   "language": "python",
   "name": "python3"
  },
  "language_info": {
   "codemirror_mode": {
    "name": "ipython",
    "version": 3
   },
   "file_extension": ".py",
   "mimetype": "text/x-python",
   "name": "python",
   "nbconvert_exporter": "python",
   "pygments_lexer": "ipython3",
   "version": "3.10.9"
  }
 },
 "nbformat": 4,
 "nbformat_minor": 5
}
