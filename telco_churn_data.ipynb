{
 "cells": [
  {
   "cell_type": "code",
   "execution_count": 1,
   "id": "77228e23",
   "metadata": {},
   "outputs": [],
   "source": [
    "import pandas as pd\n",
    "import numpy as np\n",
    "import acquire as ak\n",
    "import prepare\n",
    "\n",
    "import matplotlib.pyplot as plt\n",
    "import seaborn as sns\n",
    "\n",
    "# for train val test split\n",
    "\n",
    "#need to imoport regex into prepared file\n",
    "import re\n",
    "\n",
    "seed = 55"
   ]
  },
  {
   "cell_type": "code",
   "execution_count": 2,
   "id": "3f460eed",
   "metadata": {
    "scrolled": false
   },
   "outputs": [
    {
     "data": {
      "text/plain": [
       "7032"
      ]
     },
     "execution_count": 2,
     "metadata": {},
     "output_type": "execute_result"
    }
   ],
   "source": [
    "telco = ak.get_telco_churn()\n",
    "telco.customer_id.nunique()"
   ]
  },
  {
   "cell_type": "markdown",
   "id": "7c32b097",
   "metadata": {},
   "source": [
    "## Drop columns to be included in function"
   ]
  },
  {
   "cell_type": "code",
   "execution_count": 3,
   "id": "3718c556",
   "metadata": {},
   "outputs": [
    {
     "data": {
      "text/html": [
       "<div>\n",
       "<style scoped>\n",
       "    .dataframe tbody tr th:only-of-type {\n",
       "        vertical-align: middle;\n",
       "    }\n",
       "\n",
       "    .dataframe tbody tr th {\n",
       "        vertical-align: top;\n",
       "    }\n",
       "\n",
       "    .dataframe thead th {\n",
       "        text-align: right;\n",
       "    }\n",
       "</style>\n",
       "<table border=\"1\" class=\"dataframe\">\n",
       "  <thead>\n",
       "    <tr style=\"text-align: right;\">\n",
       "      <th></th>\n",
       "      <th>gender</th>\n",
       "      <th>senior</th>\n",
       "      <th>partner</th>\n",
       "      <th>dependents</th>\n",
       "      <th>tenure</th>\n",
       "      <th>phone_service</th>\n",
       "      <th>multiple_lines</th>\n",
       "      <th>internet_type</th>\n",
       "      <th>online_security</th>\n",
       "      <th>online_backup</th>\n",
       "      <th>...</th>\n",
       "      <th>tech_support</th>\n",
       "      <th>streaming_tv</th>\n",
       "      <th>streaming_movies</th>\n",
       "      <th>contract_type</th>\n",
       "      <th>paperless_billing</th>\n",
       "      <th>payment_type_id</th>\n",
       "      <th>monthly_charges</th>\n",
       "      <th>total_charges</th>\n",
       "      <th>churn</th>\n",
       "      <th>add_ons</th>\n",
       "    </tr>\n",
       "  </thead>\n",
       "  <tbody>\n",
       "    <tr>\n",
       "      <th>0</th>\n",
       "      <td>Female</td>\n",
       "      <td>0</td>\n",
       "      <td>Yes</td>\n",
       "      <td>Yes</td>\n",
       "      <td>9</td>\n",
       "      <td>Yes</td>\n",
       "      <td>No</td>\n",
       "      <td>1</td>\n",
       "      <td>No</td>\n",
       "      <td>Yes</td>\n",
       "      <td>...</td>\n",
       "      <td>Yes</td>\n",
       "      <td>Yes</td>\n",
       "      <td>No</td>\n",
       "      <td>2</td>\n",
       "      <td>Yes</td>\n",
       "      <td>2</td>\n",
       "      <td>65.60</td>\n",
       "      <td>593.30</td>\n",
       "      <td>No</td>\n",
       "      <td>4</td>\n",
       "    </tr>\n",
       "    <tr>\n",
       "      <th>1</th>\n",
       "      <td>Male</td>\n",
       "      <td>0</td>\n",
       "      <td>No</td>\n",
       "      <td>No</td>\n",
       "      <td>9</td>\n",
       "      <td>Yes</td>\n",
       "      <td>Yes</td>\n",
       "      <td>1</td>\n",
       "      <td>No</td>\n",
       "      <td>No</td>\n",
       "      <td>...</td>\n",
       "      <td>No</td>\n",
       "      <td>No</td>\n",
       "      <td>Yes</td>\n",
       "      <td>1</td>\n",
       "      <td>No</td>\n",
       "      <td>2</td>\n",
       "      <td>59.90</td>\n",
       "      <td>542.40</td>\n",
       "      <td>No</td>\n",
       "      <td>4</td>\n",
       "    </tr>\n",
       "    <tr>\n",
       "      <th>2</th>\n",
       "      <td>Male</td>\n",
       "      <td>0</td>\n",
       "      <td>No</td>\n",
       "      <td>No</td>\n",
       "      <td>4</td>\n",
       "      <td>Yes</td>\n",
       "      <td>No</td>\n",
       "      <td>2</td>\n",
       "      <td>No</td>\n",
       "      <td>No</td>\n",
       "      <td>...</td>\n",
       "      <td>No</td>\n",
       "      <td>No</td>\n",
       "      <td>No</td>\n",
       "      <td>1</td>\n",
       "      <td>Yes</td>\n",
       "      <td>1</td>\n",
       "      <td>73.90</td>\n",
       "      <td>280.85</td>\n",
       "      <td>Yes</td>\n",
       "      <td>1</td>\n",
       "    </tr>\n",
       "    <tr>\n",
       "      <th>3</th>\n",
       "      <td>Male</td>\n",
       "      <td>1</td>\n",
       "      <td>Yes</td>\n",
       "      <td>No</td>\n",
       "      <td>13</td>\n",
       "      <td>Yes</td>\n",
       "      <td>No</td>\n",
       "      <td>2</td>\n",
       "      <td>No</td>\n",
       "      <td>Yes</td>\n",
       "      <td>...</td>\n",
       "      <td>No</td>\n",
       "      <td>Yes</td>\n",
       "      <td>Yes</td>\n",
       "      <td>1</td>\n",
       "      <td>Yes</td>\n",
       "      <td>1</td>\n",
       "      <td>98.00</td>\n",
       "      <td>1237.85</td>\n",
       "      <td>Yes</td>\n",
       "      <td>4</td>\n",
       "    </tr>\n",
       "    <tr>\n",
       "      <th>4</th>\n",
       "      <td>Female</td>\n",
       "      <td>1</td>\n",
       "      <td>Yes</td>\n",
       "      <td>No</td>\n",
       "      <td>3</td>\n",
       "      <td>Yes</td>\n",
       "      <td>No</td>\n",
       "      <td>2</td>\n",
       "      <td>No</td>\n",
       "      <td>No</td>\n",
       "      <td>...</td>\n",
       "      <td>Yes</td>\n",
       "      <td>Yes</td>\n",
       "      <td>No</td>\n",
       "      <td>1</td>\n",
       "      <td>Yes</td>\n",
       "      <td>2</td>\n",
       "      <td>83.90</td>\n",
       "      <td>267.40</td>\n",
       "      <td>Yes</td>\n",
       "      <td>3</td>\n",
       "    </tr>\n",
       "    <tr>\n",
       "      <th>...</th>\n",
       "      <td>...</td>\n",
       "      <td>...</td>\n",
       "      <td>...</td>\n",
       "      <td>...</td>\n",
       "      <td>...</td>\n",
       "      <td>...</td>\n",
       "      <td>...</td>\n",
       "      <td>...</td>\n",
       "      <td>...</td>\n",
       "      <td>...</td>\n",
       "      <td>...</td>\n",
       "      <td>...</td>\n",
       "      <td>...</td>\n",
       "      <td>...</td>\n",
       "      <td>...</td>\n",
       "      <td>...</td>\n",
       "      <td>...</td>\n",
       "      <td>...</td>\n",
       "      <td>...</td>\n",
       "      <td>...</td>\n",
       "      <td>...</td>\n",
       "    </tr>\n",
       "    <tr>\n",
       "      <th>7027</th>\n",
       "      <td>Female</td>\n",
       "      <td>0</td>\n",
       "      <td>No</td>\n",
       "      <td>No</td>\n",
       "      <td>7</td>\n",
       "      <td>Yes</td>\n",
       "      <td>No</td>\n",
       "      <td>2</td>\n",
       "      <td>No</td>\n",
       "      <td>Yes</td>\n",
       "      <td>...</td>\n",
       "      <td>No</td>\n",
       "      <td>Yes</td>\n",
       "      <td>Yes</td>\n",
       "      <td>2</td>\n",
       "      <td>Yes</td>\n",
       "      <td>2</td>\n",
       "      <td>94.05</td>\n",
       "      <td>633.45</td>\n",
       "      <td>No</td>\n",
       "      <td>4</td>\n",
       "    </tr>\n",
       "    <tr>\n",
       "      <th>7028</th>\n",
       "      <td>Female</td>\n",
       "      <td>0</td>\n",
       "      <td>No</td>\n",
       "      <td>No</td>\n",
       "      <td>1</td>\n",
       "      <td>Yes</td>\n",
       "      <td>No</td>\n",
       "      <td>2</td>\n",
       "      <td>No</td>\n",
       "      <td>No</td>\n",
       "      <td>...</td>\n",
       "      <td>No</td>\n",
       "      <td>No</td>\n",
       "      <td>No</td>\n",
       "      <td>1</td>\n",
       "      <td>Yes</td>\n",
       "      <td>2</td>\n",
       "      <td>70.15</td>\n",
       "      <td>70.15</td>\n",
       "      <td>Yes</td>\n",
       "      <td>1</td>\n",
       "    </tr>\n",
       "    <tr>\n",
       "      <th>7029</th>\n",
       "      <td>Female</td>\n",
       "      <td>0</td>\n",
       "      <td>No</td>\n",
       "      <td>No</td>\n",
       "      <td>4</td>\n",
       "      <td>Yes</td>\n",
       "      <td>No</td>\n",
       "      <td>3</td>\n",
       "      <td>No internet service</td>\n",
       "      <td>No internet service</td>\n",
       "      <td>...</td>\n",
       "      <td>No internet service</td>\n",
       "      <td>No internet service</td>\n",
       "      <td>No internet service</td>\n",
       "      <td>1</td>\n",
       "      <td>No</td>\n",
       "      <td>3</td>\n",
       "      <td>20.95</td>\n",
       "      <td>85.50</td>\n",
       "      <td>Yes</td>\n",
       "      <td>1</td>\n",
       "    </tr>\n",
       "    <tr>\n",
       "      <th>7030</th>\n",
       "      <td>Male</td>\n",
       "      <td>0</td>\n",
       "      <td>No</td>\n",
       "      <td>No</td>\n",
       "      <td>2</td>\n",
       "      <td>Yes</td>\n",
       "      <td>No</td>\n",
       "      <td>1</td>\n",
       "      <td>No</td>\n",
       "      <td>Yes</td>\n",
       "      <td>...</td>\n",
       "      <td>No</td>\n",
       "      <td>No</td>\n",
       "      <td>No</td>\n",
       "      <td>1</td>\n",
       "      <td>Yes</td>\n",
       "      <td>2</td>\n",
       "      <td>50.30</td>\n",
       "      <td>92.75</td>\n",
       "      <td>No</td>\n",
       "      <td>2</td>\n",
       "    </tr>\n",
       "    <tr>\n",
       "      <th>7031</th>\n",
       "      <td>Male</td>\n",
       "      <td>0</td>\n",
       "      <td>Yes</td>\n",
       "      <td>Yes</td>\n",
       "      <td>63</td>\n",
       "      <td>No</td>\n",
       "      <td>No phone service</td>\n",
       "      <td>1</td>\n",
       "      <td>Yes</td>\n",
       "      <td>Yes</td>\n",
       "      <td>...</td>\n",
       "      <td>No</td>\n",
       "      <td>Yes</td>\n",
       "      <td>Yes</td>\n",
       "      <td>3</td>\n",
       "      <td>No</td>\n",
       "      <td>1</td>\n",
       "      <td>59.00</td>\n",
       "      <td>3707.60</td>\n",
       "      <td>No</td>\n",
       "      <td>4</td>\n",
       "    </tr>\n",
       "  </tbody>\n",
       "</table>\n",
       "<p>7032 rows × 21 columns</p>\n",
       "</div>"
      ],
      "text/plain": [
       "      gender  senior partner dependents  tenure phone_service  \\\n",
       "0     Female       0     Yes        Yes       9           Yes   \n",
       "1       Male       0      No         No       9           Yes   \n",
       "2       Male       0      No         No       4           Yes   \n",
       "3       Male       1     Yes         No      13           Yes   \n",
       "4     Female       1     Yes         No       3           Yes   \n",
       "...      ...     ...     ...        ...     ...           ...   \n",
       "7027  Female       0      No         No       7           Yes   \n",
       "7028  Female       0      No         No       1           Yes   \n",
       "7029  Female       0      No         No       4           Yes   \n",
       "7030    Male       0      No         No       2           Yes   \n",
       "7031    Male       0     Yes        Yes      63            No   \n",
       "\n",
       "        multiple_lines  internet_type      online_security  \\\n",
       "0                   No              1                   No   \n",
       "1                  Yes              1                   No   \n",
       "2                   No              2                   No   \n",
       "3                   No              2                   No   \n",
       "4                   No              2                   No   \n",
       "...                ...            ...                  ...   \n",
       "7027                No              2                   No   \n",
       "7028                No              2                   No   \n",
       "7029                No              3  No internet service   \n",
       "7030                No              1                   No   \n",
       "7031  No phone service              1                  Yes   \n",
       "\n",
       "            online_backup  ...         tech_support         streaming_tv  \\\n",
       "0                     Yes  ...                  Yes                  Yes   \n",
       "1                      No  ...                   No                   No   \n",
       "2                      No  ...                   No                   No   \n",
       "3                     Yes  ...                   No                  Yes   \n",
       "4                      No  ...                  Yes                  Yes   \n",
       "...                   ...  ...                  ...                  ...   \n",
       "7027                  Yes  ...                   No                  Yes   \n",
       "7028                   No  ...                   No                   No   \n",
       "7029  No internet service  ...  No internet service  No internet service   \n",
       "7030                  Yes  ...                   No                   No   \n",
       "7031                  Yes  ...                   No                  Yes   \n",
       "\n",
       "         streaming_movies contract_type  paperless_billing payment_type_id  \\\n",
       "0                      No             2                Yes               2   \n",
       "1                     Yes             1                 No               2   \n",
       "2                      No             1                Yes               1   \n",
       "3                     Yes             1                Yes               1   \n",
       "4                      No             1                Yes               2   \n",
       "...                   ...           ...                ...             ...   \n",
       "7027                  Yes             2                Yes               2   \n",
       "7028                   No             1                Yes               2   \n",
       "7029  No internet service             1                 No               3   \n",
       "7030                   No             1                Yes               2   \n",
       "7031                  Yes             3                 No               1   \n",
       "\n",
       "      monthly_charges  total_charges  churn add_ons  \n",
       "0               65.60         593.30     No       4  \n",
       "1               59.90         542.40     No       4  \n",
       "2               73.90         280.85    Yes       1  \n",
       "3               98.00        1237.85    Yes       4  \n",
       "4               83.90         267.40    Yes       3  \n",
       "...               ...            ...    ...     ...  \n",
       "7027            94.05         633.45     No       4  \n",
       "7028            70.15          70.15    Yes       1  \n",
       "7029            20.95          85.50    Yes       1  \n",
       "7030            50.30          92.75     No       2  \n",
       "7031            59.00        3707.60     No       4  \n",
       "\n",
       "[7032 rows x 21 columns]"
      ]
     },
     "execution_count": 3,
     "metadata": {},
     "output_type": "execute_result"
    }
   ],
   "source": [
    "prepare.prep_telco(telco)"
   ]
  },
  {
   "cell_type": "markdown",
   "id": "bec05c6e",
   "metadata": {},
   "source": [
    "## Add to prepare along with regex import"
   ]
  },
  {
   "cell_type": "code",
   "execution_count": 4,
   "id": "bd6fd0a5",
   "metadata": {
    "scrolled": true
   },
   "outputs": [
    {
     "data": {
      "text/plain": [
       "\"\\nfor i in telco.columns:\\n    if re.search(r'\\\\d$',i):\\n        telco.drop(i, axis = 1, inplace = True)\\n        \\n        \""
      ]
     },
     "execution_count": 4,
     "metadata": {},
     "output_type": "execute_result"
    }
   ],
   "source": [
    "# drops all duplicate columns\n",
    "'''\n",
    "for i in telco.columns:\n",
    "    if re.search(r'\\d$',i):\n",
    "        telco.drop(i, axis = 1, inplace = True)\n",
    "        \n",
    "        '''"
   ]
  },
  {
   "cell_type": "code",
   "execution_count": 5,
   "id": "745d9987",
   "metadata": {},
   "outputs": [],
   "source": [
    "# drops redundant columns in favor of their numerical or boolean counterparts. \n",
    "# drop churn month becuse all values are the same.\n",
    "# telco.drop(columns = ['payment_type', 'customer_id', 'contract_type', 'internet_service_type', 'churn_month', 'signup_date'], inplace = True)"
   ]
  },
  {
   "cell_type": "code",
   "execution_count": 6,
   "id": "d4b7d41d",
   "metadata": {},
   "outputs": [],
   "source": [
    "# compare like columns\n",
    "# telco[['tenure', 'signup_date']]"
   ]
  },
  {
   "cell_type": "code",
   "execution_count": 7,
   "id": "7ed92293",
   "metadata": {
    "scrolled": true
   },
   "outputs": [],
   "source": [
    "# sorted(telco.columns)"
   ]
  },
  {
   "cell_type": "code",
   "execution_count": 8,
   "id": "cf31b1a5",
   "metadata": {
    "scrolled": true
   },
   "outputs": [],
   "source": [
    "# telco.isna().sum()"
   ]
  },
  {
   "cell_type": "code",
   "execution_count": 9,
   "id": "edf996de",
   "metadata": {
    "scrolled": true
   },
   "outputs": [],
   "source": [
    "# telco.head()"
   ]
  },
  {
   "cell_type": "code",
   "execution_count": 10,
   "id": "12537556",
   "metadata": {},
   "outputs": [
    {
     "data": {
      "text/plain": [
       "\"telco.rename(columns = {'senior_citizen': 'senior', 'internet_service_type_id' :'internet_type', \\n                     'contract_type_id': 'contract_type'} , inplace = True)\""
      ]
     },
     "execution_count": 10,
     "metadata": {},
     "output_type": "execute_result"
    }
   ],
   "source": [
    "# renames columns\n",
    "'''telco.rename(columns = {'senior_citizen': 'senior', 'internet_service_type_id' :'internet_type', \n",
    "                     'contract_type_id': 'contract_type'} , inplace = True)'''"
   ]
  },
  {
   "cell_type": "code",
   "execution_count": 11,
   "id": "1934a752",
   "metadata": {},
   "outputs": [
    {
     "data": {
      "text/plain": [
       "'\\nfor i in telco.columns:\\n    print(\"Column:\", i)\\n    print(telco[i].value_counts())\\n    print(\"-----------------------------\")\\n'"
      ]
     },
     "execution_count": 11,
     "metadata": {},
     "output_type": "execute_result"
    }
   ],
   "source": [
    "# loop used to peak at unique values\n",
    "'''\n",
    "for i in telco.columns:\n",
    "    print(\"Column:\", i)\n",
    "    print(telco[i].value_counts())\n",
    "    print(\"-----------------------------\")\n",
    "'''\n",
    "  "
   ]
  },
  {
   "cell_type": "code",
   "execution_count": null,
   "id": "94055c21",
   "metadata": {},
   "outputs": [],
   "source": []
  },
  {
   "cell_type": "code",
   "execution_count": 12,
   "id": "d592c933",
   "metadata": {},
   "outputs": [],
   "source": [
    "# trying to find blank spaces\n",
    "# mask_all = (telco.applymap(lambda x: str(x).strip() == '')).any(axis=1)\n",
    "\n",
    "# Display rows where any column is blank or spaces\n",
    "# print(telco[mask_all])"
   ]
  },
  {
   "cell_type": "code",
   "execution_count": null,
   "id": "027750ac",
   "metadata": {},
   "outputs": [],
   "source": []
  },
  {
   "cell_type": "code",
   "execution_count": 13,
   "id": "499365ad",
   "metadata": {},
   "outputs": [],
   "source": [
    "train, val, split = prepare.train_val_test(telco,'churn')"
   ]
  },
  {
   "cell_type": "code",
   "execution_count": null,
   "id": "879cf644",
   "metadata": {
    "scrolled": true
   },
   "outputs": [],
   "source": []
  },
  {
   "cell_type": "markdown",
   "id": "d6eec375",
   "metadata": {},
   "source": [
    "## make a new feature called add ons that tally all add ons"
   ]
  },
  {
   "cell_type": "code",
   "execution_count": 14,
   "id": "fb3dc736",
   "metadata": {},
   "outputs": [
    {
     "data": {
      "text/html": [
       "<div>\n",
       "<style scoped>\n",
       "    .dataframe tbody tr th:only-of-type {\n",
       "        vertical-align: middle;\n",
       "    }\n",
       "\n",
       "    .dataframe tbody tr th {\n",
       "        vertical-align: top;\n",
       "    }\n",
       "\n",
       "    .dataframe thead th {\n",
       "        text-align: right;\n",
       "    }\n",
       "</style>\n",
       "<table border=\"1\" class=\"dataframe\">\n",
       "  <thead>\n",
       "    <tr style=\"text-align: right;\">\n",
       "      <th></th>\n",
       "      <th>gender</th>\n",
       "      <th>senior</th>\n",
       "      <th>partner</th>\n",
       "      <th>dependents</th>\n",
       "      <th>tenure</th>\n",
       "      <th>phone_service</th>\n",
       "      <th>multiple_lines</th>\n",
       "      <th>internet_type</th>\n",
       "      <th>online_security</th>\n",
       "      <th>online_backup</th>\n",
       "      <th>...</th>\n",
       "      <th>tech_support</th>\n",
       "      <th>streaming_tv</th>\n",
       "      <th>streaming_movies</th>\n",
       "      <th>contract_type</th>\n",
       "      <th>paperless_billing</th>\n",
       "      <th>payment_type_id</th>\n",
       "      <th>monthly_charges</th>\n",
       "      <th>total_charges</th>\n",
       "      <th>churn</th>\n",
       "      <th>add_ons</th>\n",
       "    </tr>\n",
       "  </thead>\n",
       "  <tbody>\n",
       "    <tr>\n",
       "      <th>6235</th>\n",
       "      <td>Male</td>\n",
       "      <td>0</td>\n",
       "      <td>No</td>\n",
       "      <td>Yes</td>\n",
       "      <td>39</td>\n",
       "      <td>Yes</td>\n",
       "      <td>Yes</td>\n",
       "      <td>2</td>\n",
       "      <td>No</td>\n",
       "      <td>No</td>\n",
       "      <td>...</td>\n",
       "      <td>Yes</td>\n",
       "      <td>Yes</td>\n",
       "      <td>Yes</td>\n",
       "      <td>3</td>\n",
       "      <td>No</td>\n",
       "      <td>2</td>\n",
       "      <td>100.55</td>\n",
       "      <td>3895.35</td>\n",
       "      <td>No</td>\n",
       "      <td>6</td>\n",
       "    </tr>\n",
       "  </tbody>\n",
       "</table>\n",
       "<p>1 rows × 21 columns</p>\n",
       "</div>"
      ],
      "text/plain": [
       "     gender  senior partner dependents  tenure phone_service multiple_lines  \\\n",
       "6235   Male       0      No        Yes      39           Yes            Yes   \n",
       "\n",
       "      internet_type online_security online_backup  ... tech_support  \\\n",
       "6235              2              No            No  ...          Yes   \n",
       "\n",
       "     streaming_tv streaming_movies contract_type  paperless_billing  \\\n",
       "6235          Yes              Yes             3                 No   \n",
       "\n",
       "     payment_type_id  monthly_charges  total_charges  churn add_ons  \n",
       "6235               2           100.55        3895.35     No       6  \n",
       "\n",
       "[1 rows x 21 columns]"
      ]
     },
     "execution_count": 14,
     "metadata": {},
     "output_type": "execute_result"
    }
   ],
   "source": [
    "train.head(1)"
   ]
  },
  {
   "cell_type": "code",
   "execution_count": 15,
   "id": "b9bff9fd",
   "metadata": {},
   "outputs": [],
   "source": [
    "# telco['add_ons'] = (telco.phone_service == 'Yes').astype(int) + (telco.multiple_lines == 'Yes').astype(int) + (telco.online_security == 'Yes').astype(int) + (telco.multiple_lines == 'Yes').astype(int) + (telco.online_backup == 'Yes').astype(int) + (telco.tech_support == 'Yes').astype(int) + (telco.streaming_tv == 'Yes').astype(int) + (telco.streaming_movies == 'Yes').astype(int)"
   ]
  },
  {
   "cell_type": "code",
   "execution_count": 16,
   "id": "a5b47dbd",
   "metadata": {},
   "outputs": [
    {
     "data": {
      "text/html": [
       "<div>\n",
       "<style scoped>\n",
       "    .dataframe tbody tr th:only-of-type {\n",
       "        vertical-align: middle;\n",
       "    }\n",
       "\n",
       "    .dataframe tbody tr th {\n",
       "        vertical-align: top;\n",
       "    }\n",
       "\n",
       "    .dataframe thead th {\n",
       "        text-align: right;\n",
       "    }\n",
       "</style>\n",
       "<table border=\"1\" class=\"dataframe\">\n",
       "  <thead>\n",
       "    <tr style=\"text-align: right;\">\n",
       "      <th></th>\n",
       "      <th>gender</th>\n",
       "      <th>senior</th>\n",
       "      <th>partner</th>\n",
       "      <th>dependents</th>\n",
       "      <th>tenure</th>\n",
       "      <th>phone_service</th>\n",
       "      <th>multiple_lines</th>\n",
       "      <th>internet_type</th>\n",
       "      <th>online_security</th>\n",
       "      <th>online_backup</th>\n",
       "      <th>...</th>\n",
       "      <th>tech_support</th>\n",
       "      <th>streaming_tv</th>\n",
       "      <th>streaming_movies</th>\n",
       "      <th>contract_type</th>\n",
       "      <th>paperless_billing</th>\n",
       "      <th>payment_type_id</th>\n",
       "      <th>monthly_charges</th>\n",
       "      <th>total_charges</th>\n",
       "      <th>churn</th>\n",
       "      <th>add_ons</th>\n",
       "    </tr>\n",
       "  </thead>\n",
       "  <tbody>\n",
       "    <tr>\n",
       "      <th>0</th>\n",
       "      <td>Female</td>\n",
       "      <td>0</td>\n",
       "      <td>Yes</td>\n",
       "      <td>Yes</td>\n",
       "      <td>9</td>\n",
       "      <td>Yes</td>\n",
       "      <td>No</td>\n",
       "      <td>1</td>\n",
       "      <td>No</td>\n",
       "      <td>Yes</td>\n",
       "      <td>...</td>\n",
       "      <td>Yes</td>\n",
       "      <td>Yes</td>\n",
       "      <td>No</td>\n",
       "      <td>2</td>\n",
       "      <td>Yes</td>\n",
       "      <td>2</td>\n",
       "      <td>65.6</td>\n",
       "      <td>593.30</td>\n",
       "      <td>No</td>\n",
       "      <td>4</td>\n",
       "    </tr>\n",
       "    <tr>\n",
       "      <th>1</th>\n",
       "      <td>Male</td>\n",
       "      <td>0</td>\n",
       "      <td>No</td>\n",
       "      <td>No</td>\n",
       "      <td>9</td>\n",
       "      <td>Yes</td>\n",
       "      <td>Yes</td>\n",
       "      <td>1</td>\n",
       "      <td>No</td>\n",
       "      <td>No</td>\n",
       "      <td>...</td>\n",
       "      <td>No</td>\n",
       "      <td>No</td>\n",
       "      <td>Yes</td>\n",
       "      <td>1</td>\n",
       "      <td>No</td>\n",
       "      <td>2</td>\n",
       "      <td>59.9</td>\n",
       "      <td>542.40</td>\n",
       "      <td>No</td>\n",
       "      <td>4</td>\n",
       "    </tr>\n",
       "    <tr>\n",
       "      <th>2</th>\n",
       "      <td>Male</td>\n",
       "      <td>0</td>\n",
       "      <td>No</td>\n",
       "      <td>No</td>\n",
       "      <td>4</td>\n",
       "      <td>Yes</td>\n",
       "      <td>No</td>\n",
       "      <td>2</td>\n",
       "      <td>No</td>\n",
       "      <td>No</td>\n",
       "      <td>...</td>\n",
       "      <td>No</td>\n",
       "      <td>No</td>\n",
       "      <td>No</td>\n",
       "      <td>1</td>\n",
       "      <td>Yes</td>\n",
       "      <td>1</td>\n",
       "      <td>73.9</td>\n",
       "      <td>280.85</td>\n",
       "      <td>Yes</td>\n",
       "      <td>1</td>\n",
       "    </tr>\n",
       "    <tr>\n",
       "      <th>3</th>\n",
       "      <td>Male</td>\n",
       "      <td>1</td>\n",
       "      <td>Yes</td>\n",
       "      <td>No</td>\n",
       "      <td>13</td>\n",
       "      <td>Yes</td>\n",
       "      <td>No</td>\n",
       "      <td>2</td>\n",
       "      <td>No</td>\n",
       "      <td>Yes</td>\n",
       "      <td>...</td>\n",
       "      <td>No</td>\n",
       "      <td>Yes</td>\n",
       "      <td>Yes</td>\n",
       "      <td>1</td>\n",
       "      <td>Yes</td>\n",
       "      <td>1</td>\n",
       "      <td>98.0</td>\n",
       "      <td>1237.85</td>\n",
       "      <td>Yes</td>\n",
       "      <td>4</td>\n",
       "    </tr>\n",
       "    <tr>\n",
       "      <th>4</th>\n",
       "      <td>Female</td>\n",
       "      <td>1</td>\n",
       "      <td>Yes</td>\n",
       "      <td>No</td>\n",
       "      <td>3</td>\n",
       "      <td>Yes</td>\n",
       "      <td>No</td>\n",
       "      <td>2</td>\n",
       "      <td>No</td>\n",
       "      <td>No</td>\n",
       "      <td>...</td>\n",
       "      <td>Yes</td>\n",
       "      <td>Yes</td>\n",
       "      <td>No</td>\n",
       "      <td>1</td>\n",
       "      <td>Yes</td>\n",
       "      <td>2</td>\n",
       "      <td>83.9</td>\n",
       "      <td>267.40</td>\n",
       "      <td>Yes</td>\n",
       "      <td>3</td>\n",
       "    </tr>\n",
       "  </tbody>\n",
       "</table>\n",
       "<p>5 rows × 21 columns</p>\n",
       "</div>"
      ],
      "text/plain": [
       "   gender  senior partner dependents  tenure phone_service multiple_lines  \\\n",
       "0  Female       0     Yes        Yes       9           Yes             No   \n",
       "1    Male       0      No         No       9           Yes            Yes   \n",
       "2    Male       0      No         No       4           Yes             No   \n",
       "3    Male       1     Yes         No      13           Yes             No   \n",
       "4  Female       1     Yes         No       3           Yes             No   \n",
       "\n",
       "   internet_type online_security online_backup  ... tech_support streaming_tv  \\\n",
       "0              1              No           Yes  ...          Yes          Yes   \n",
       "1              1              No            No  ...           No           No   \n",
       "2              2              No            No  ...           No           No   \n",
       "3              2              No           Yes  ...           No          Yes   \n",
       "4              2              No            No  ...          Yes          Yes   \n",
       "\n",
       "  streaming_movies contract_type  paperless_billing payment_type_id  \\\n",
       "0               No             2                Yes               2   \n",
       "1              Yes             1                 No               2   \n",
       "2               No             1                Yes               1   \n",
       "3              Yes             1                Yes               1   \n",
       "4               No             1                Yes               2   \n",
       "\n",
       "   monthly_charges  total_charges  churn add_ons  \n",
       "0             65.6         593.30     No       4  \n",
       "1             59.9         542.40     No       4  \n",
       "2             73.9         280.85    Yes       1  \n",
       "3             98.0        1237.85    Yes       4  \n",
       "4             83.9         267.40    Yes       3  \n",
       "\n",
       "[5 rows x 21 columns]"
      ]
     },
     "execution_count": 16,
     "metadata": {},
     "output_type": "execute_result"
    }
   ],
   "source": [
    "telco.head()"
   ]
  },
  {
   "cell_type": "markdown",
   "id": "c6c16540",
   "metadata": {},
   "source": [
    "These are the add ones that need tallying. \n",
    "\n",
    "phone_service, multiple_lines, online_security, online_backup, tech_support, streaming_tv, streaming_movies"
   ]
  },
  {
   "cell_type": "code",
   "execution_count": 17,
   "id": "e7f8e5a0",
   "metadata": {},
   "outputs": [],
   "source": [
    "# compare like columns\n",
    "# telco[['phone_service', 'multiple_lines']]"
   ]
  },
  {
   "cell_type": "code",
   "execution_count": 18,
   "id": "62be4ac5",
   "metadata": {},
   "outputs": [
    {
     "data": {
      "text/plain": [
       "array(['No', 'Yes', 'No internet service'], dtype=object)"
      ]
     },
     "execution_count": 18,
     "metadata": {},
     "output_type": "execute_result"
    }
   ],
   "source": [
    "telco.streaming_movies.unique()"
   ]
  },
  {
   "cell_type": "code",
   "execution_count": 19,
   "id": "b5d1d72a",
   "metadata": {},
   "outputs": [
    {
     "ename": "SyntaxError",
     "evalue": "invalid syntax (1116488386.py, line 1)",
     "output_type": "error",
     "traceback": [
      "\u001b[0;36m  Cell \u001b[0;32mIn[19], line 1\u001b[0;36m\u001b[0m\n\u001b[0;31m    phone_service , multiple lines,\u001b[0m\n\u001b[0m                             ^\u001b[0m\n\u001b[0;31mSyntaxError\u001b[0m\u001b[0;31m:\u001b[0m invalid syntax\n"
     ]
    }
   ],
   "source": [
    "phone_service , multiple lines, \n",
    "def add_ons(train):\n",
    "    train[phone]"
   ]
  },
  {
   "cell_type": "markdown",
   "id": "bab730bb",
   "metadata": {},
   "source": [
    "Visualize our data"
   ]
  },
  {
   "cell_type": "code",
   "execution_count": null,
   "id": "e9ebc606",
   "metadata": {},
   "outputs": [],
   "source": [
    "sns.countplot(x=train.churn)\n"
   ]
  },
  {
   "cell_type": "markdown",
   "id": "adb9886b",
   "metadata": {},
   "source": [
    "Questions:\n",
    "What effect does tenure have on churn?\n",
    "What effect does total charges have on churn?\n",
    "How do differnt add-ons effect churn?\n",
    "Is costomer demographic a predictor of churn?"
   ]
  },
  {
   "cell_type": "markdown",
   "id": "05f37456",
   "metadata": {},
   "source": [
    "tenure vs churn"
   ]
  },
  {
   "cell_type": "code",
   "execution_count": null,
   "id": "8b1a42d6",
   "metadata": {},
   "outputs": [],
   "source": [
    "# fix up the pie chart but the chart shows that 26% of cusomers churn each month\n",
    "# that is the cost cutting that we are targetting"
   ]
  },
  {
   "cell_type": "code",
   "execution_count": null,
   "id": "cd8ab603",
   "metadata": {},
   "outputs": [],
   "source": [
    "counts = train.churn.value_counts()\n",
    "\n",
    "plt.figure(figsize=(8, 6))\n",
    "counts.plot.pie(autopct='%1.1f%%', startangle=90 )\n",
    "plt.show()"
   ]
  },
  {
   "cell_type": "code",
   "execution_count": null,
   "id": "c25b4aa0",
   "metadata": {},
   "outputs": [],
   "source": [
    "sns.countplot(x=train.churn, hue =train.senior)"
   ]
  },
  {
   "cell_type": "markdown",
   "id": "0922d414",
   "metadata": {},
   "source": [
    "### Statistical tests\n",
    "#### next I am looking at correlation between some features and thier impact on churn\n",
    "- if features are tightly coorelated will add them to the same feature or delete them\n",
    "-- or recommend to also pitch similar services to them\n",
    "-- need to run a statistical test on each service and one on all togehter. Perhaps this is best done first with a logistic regression\n"
   ]
  },
  {
   "cell_type": "markdown",
   "id": "36065784",
   "metadata": {},
   "source": [
    "$H_0$ tenure has NO effect on churn.\n",
    "\n",
    "$H_a$ tenure has an effect on churn.\n",
    "\n",
    "Mann-Whitney  test."
   ]
  },
  {
   "cell_type": "markdown",
   "id": "c1be5ba4",
   "metadata": {},
   "source": [
    "$H_0$ total_charges has NO effect on churn.\n",
    "\n",
    "$H_a$ total_charges has an effect on churn.\n",
    "\n",
    "Mann-Whitney test."
   ]
  },
  {
   "cell_type": "markdown",
   "id": "bb52ada5",
   "metadata": {},
   "source": [
    "$H_0$ monthly_charges has NO effect on churn.\n",
    "\n",
    "$H_a$ monthly_charges has an effect on churn.\n",
    "\n",
    "Mann-Whitney test."
   ]
  },
  {
   "cell_type": "markdown",
   "id": "6c478a72",
   "metadata": {},
   "source": [
    "$H_0$ age has NO effect on churn.\n",
    "\n",
    "$H_a$ age has an effect on churn.\n",
    "\n",
    "Mann-Whitney test."
   ]
  },
  {
   "cell_type": "markdown",
   "id": "3a378f0f",
   "metadata": {},
   "source": [
    "$H_0$ gender has NO effect on churn.\n",
    "\n",
    "$H_a$ gender has an effect on churn.\n",
    "\n",
    "chi^2 test."
   ]
  },
  {
   "cell_type": "markdown",
   "id": "be1c1aa8",
   "metadata": {},
   "source": [
    "$H_0$ gender and age have NO effect on churn.\n",
    "\n",
    "$H_a$ gender and age have an effect on churn.\n",
    "\n",
    "multivariate logistic regression."
   ]
  },
  {
   "cell_type": "markdown",
   "id": "286dc61c",
   "metadata": {},
   "source": [
    "$H_0$ add_ons have NO effect on churn.\n",
    "\n",
    "$H_a$ add_ons have an effect on churn.\n",
    "\n",
    "Mann-Whitney test."
   ]
  },
  {
   "cell_type": "code",
   "execution_count": 21,
   "id": "9063359c",
   "metadata": {},
   "outputs": [
    {
     "data": {
      "text/plain": [
       "['add_ons',\n",
       " 'churn',\n",
       " 'contract_type',\n",
       " 'dependents',\n",
       " 'device_protection',\n",
       " 'gender',\n",
       " 'internet_type',\n",
       " 'monthly_charges',\n",
       " 'multiple_lines',\n",
       " 'online_backup',\n",
       " 'online_security',\n",
       " 'paperless_billing',\n",
       " 'partner',\n",
       " 'payment_type_id',\n",
       " 'phone_service',\n",
       " 'senior',\n",
       " 'streaming_movies',\n",
       " 'streaming_tv',\n",
       " 'tech_support',\n",
       " 'tenure',\n",
       " 'total_charges']"
      ]
     },
     "execution_count": 21,
     "metadata": {},
     "output_type": "execute_result"
    }
   ],
   "source": [
    "sorted(train.columns)"
   ]
  },
  {
   "cell_type": "code",
   "execution_count": null,
   "id": "70c43e4d",
   "metadata": {},
   "outputs": [],
   "source": []
  }
 ],
 "metadata": {
  "kernelspec": {
   "display_name": "Python 3 (ipykernel)",
   "language": "python",
   "name": "python3"
  },
  "language_info": {
   "codemirror_mode": {
    "name": "ipython",
    "version": 3
   },
   "file_extension": ".py",
   "mimetype": "text/x-python",
   "name": "python",
   "nbconvert_exporter": "python",
   "pygments_lexer": "ipython3",
   "version": "3.10.9"
  }
 },
 "nbformat": 4,
 "nbformat_minor": 5
}
